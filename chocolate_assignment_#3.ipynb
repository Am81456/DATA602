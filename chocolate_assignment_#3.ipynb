{
 "cells": [
  {
   "cell_type": "markdown",
   "id": "b1a07a00",
   "metadata": {},
   "source": [
    "###ASSIGNMENT ON CHOCOLATE\n",
    "\n",
    "\n",
    "In this project, the data we used is from Kagele 'chocolate' file. that includes the company,\n",
    "the rating, ingredients and the location with the review dates. and it will be cleaned and sorted \n",
    "and put in graph in this assignment. \n",
    "\n",
    "\n"
   ]
  },
  {
   "cell_type": "code",
   "execution_count": 42,
   "id": "8eeb92fd",
   "metadata": {},
   "outputs": [
    {
     "data": {
      "text/html": [
       "<div>\n",
       "<style scoped>\n",
       "    .dataframe tbody tr th:only-of-type {\n",
       "        vertical-align: middle;\n",
       "    }\n",
       "\n",
       "    .dataframe tbody tr th {\n",
       "        vertical-align: top;\n",
       "    }\n",
       "\n",
       "    .dataframe thead th {\n",
       "        text-align: right;\n",
       "    }\n",
       "</style>\n",
       "<table border=\"1\" class=\"dataframe\">\n",
       "  <thead>\n",
       "    <tr style=\"text-align: right;\">\n",
       "      <th></th>\n",
       "      <th>Unnamed: 0</th>\n",
       "      <th>ref</th>\n",
       "      <th>company</th>\n",
       "      <th>company_location</th>\n",
       "      <th>review_date</th>\n",
       "      <th>country_of_bean_origin</th>\n",
       "      <th>specific_bean_origin_or_bar_name</th>\n",
       "      <th>cocoa_percent</th>\n",
       "      <th>rating</th>\n",
       "      <th>counts_of_ingredients</th>\n",
       "      <th>...</th>\n",
       "      <th>cocoa_butter</th>\n",
       "      <th>vanilla</th>\n",
       "      <th>lecithin</th>\n",
       "      <th>salt</th>\n",
       "      <th>sugar</th>\n",
       "      <th>sweetener_without_sugar</th>\n",
       "      <th>first_taste</th>\n",
       "      <th>second_taste</th>\n",
       "      <th>third_taste</th>\n",
       "      <th>fourth_taste</th>\n",
       "    </tr>\n",
       "  </thead>\n",
       "  <tbody>\n",
       "    <tr>\n",
       "      <th>0</th>\n",
       "      <td>0</td>\n",
       "      <td>2454</td>\n",
       "      <td>5150</td>\n",
       "      <td>U.S.A</td>\n",
       "      <td>2019</td>\n",
       "      <td>Madagascar</td>\n",
       "      <td>Bejofo Estate, batch 1</td>\n",
       "      <td>76.0</td>\n",
       "      <td>3.75</td>\n",
       "      <td>3</td>\n",
       "      <td>...</td>\n",
       "      <td>have_cocoa_butter</td>\n",
       "      <td>have_not_vanila</td>\n",
       "      <td>have_not_lecithin</td>\n",
       "      <td>have_not_salt</td>\n",
       "      <td>have_sugar</td>\n",
       "      <td>have_not_sweetener_without_sugar</td>\n",
       "      <td>cocoa</td>\n",
       "      <td>blackberry</td>\n",
       "      <td>full body</td>\n",
       "      <td>NaN</td>\n",
       "    </tr>\n",
       "    <tr>\n",
       "      <th>1</th>\n",
       "      <td>1</td>\n",
       "      <td>2458</td>\n",
       "      <td>5150</td>\n",
       "      <td>U.S.A</td>\n",
       "      <td>2019</td>\n",
       "      <td>Dominican republic</td>\n",
       "      <td>Zorzal, batch 1</td>\n",
       "      <td>76.0</td>\n",
       "      <td>3.50</td>\n",
       "      <td>3</td>\n",
       "      <td>...</td>\n",
       "      <td>have_cocoa_butter</td>\n",
       "      <td>have_not_vanila</td>\n",
       "      <td>have_not_lecithin</td>\n",
       "      <td>have_not_salt</td>\n",
       "      <td>have_sugar</td>\n",
       "      <td>have_not_sweetener_without_sugar</td>\n",
       "      <td>cocoa</td>\n",
       "      <td>vegetal</td>\n",
       "      <td>savory</td>\n",
       "      <td>NaN</td>\n",
       "    </tr>\n",
       "    <tr>\n",
       "      <th>2</th>\n",
       "      <td>2</td>\n",
       "      <td>2454</td>\n",
       "      <td>5150</td>\n",
       "      <td>U.S.A</td>\n",
       "      <td>2019</td>\n",
       "      <td>Tanzania</td>\n",
       "      <td>Kokoa Kamili, batch 1</td>\n",
       "      <td>76.0</td>\n",
       "      <td>3.25</td>\n",
       "      <td>3</td>\n",
       "      <td>...</td>\n",
       "      <td>have_cocoa_butter</td>\n",
       "      <td>have_not_vanila</td>\n",
       "      <td>have_not_lecithin</td>\n",
       "      <td>have_not_salt</td>\n",
       "      <td>have_sugar</td>\n",
       "      <td>have_not_sweetener_without_sugar</td>\n",
       "      <td>rich cocoa</td>\n",
       "      <td>fatty</td>\n",
       "      <td>bready</td>\n",
       "      <td>NaN</td>\n",
       "    </tr>\n",
       "    <tr>\n",
       "      <th>3</th>\n",
       "      <td>3</td>\n",
       "      <td>797</td>\n",
       "      <td>A. Morin</td>\n",
       "      <td>France</td>\n",
       "      <td>2012</td>\n",
       "      <td>Peru</td>\n",
       "      <td>Peru</td>\n",
       "      <td>63.0</td>\n",
       "      <td>3.75</td>\n",
       "      <td>4</td>\n",
       "      <td>...</td>\n",
       "      <td>have_cocoa_butter</td>\n",
       "      <td>have_not_vanila</td>\n",
       "      <td>have_lecithin</td>\n",
       "      <td>have_not_salt</td>\n",
       "      <td>have_sugar</td>\n",
       "      <td>have_not_sweetener_without_sugar</td>\n",
       "      <td>fruity</td>\n",
       "      <td>melon</td>\n",
       "      <td>roasty</td>\n",
       "      <td>NaN</td>\n",
       "    </tr>\n",
       "    <tr>\n",
       "      <th>4</th>\n",
       "      <td>4</td>\n",
       "      <td>797</td>\n",
       "      <td>A. Morin</td>\n",
       "      <td>France</td>\n",
       "      <td>2012</td>\n",
       "      <td>Bolivia</td>\n",
       "      <td>Bolivia</td>\n",
       "      <td>70.0</td>\n",
       "      <td>3.50</td>\n",
       "      <td>4</td>\n",
       "      <td>...</td>\n",
       "      <td>have_cocoa_butter</td>\n",
       "      <td>have_not_vanila</td>\n",
       "      <td>have_lecithin</td>\n",
       "      <td>have_not_salt</td>\n",
       "      <td>have_sugar</td>\n",
       "      <td>have_not_sweetener_without_sugar</td>\n",
       "      <td>vegetal</td>\n",
       "      <td>nutty</td>\n",
       "      <td>NaN</td>\n",
       "      <td>NaN</td>\n",
       "    </tr>\n",
       "  </tbody>\n",
       "</table>\n",
       "<p>5 rows × 21 columns</p>\n",
       "</div>"
      ],
      "text/plain": [
       "   Unnamed: 0   ref   company company_location  review_date  \\\n",
       "0           0  2454      5150            U.S.A         2019   \n",
       "1           1  2458      5150            U.S.A         2019   \n",
       "2           2  2454      5150            U.S.A         2019   \n",
       "3           3   797  A. Morin           France         2012   \n",
       "4           4   797  A. Morin           France         2012   \n",
       "\n",
       "  country_of_bean_origin specific_bean_origin_or_bar_name  cocoa_percent  \\\n",
       "0             Madagascar           Bejofo Estate, batch 1           76.0   \n",
       "1     Dominican republic                  Zorzal, batch 1           76.0   \n",
       "2               Tanzania            Kokoa Kamili, batch 1           76.0   \n",
       "3                   Peru                             Peru           63.0   \n",
       "4                Bolivia                          Bolivia           70.0   \n",
       "\n",
       "   rating  counts_of_ingredients  ...       cocoa_butter          vanilla  \\\n",
       "0    3.75                      3  ...  have_cocoa_butter  have_not_vanila   \n",
       "1    3.50                      3  ...  have_cocoa_butter  have_not_vanila   \n",
       "2    3.25                      3  ...  have_cocoa_butter  have_not_vanila   \n",
       "3    3.75                      4  ...  have_cocoa_butter  have_not_vanila   \n",
       "4    3.50                      4  ...  have_cocoa_butter  have_not_vanila   \n",
       "\n",
       "            lecithin           salt       sugar  \\\n",
       "0  have_not_lecithin  have_not_salt  have_sugar   \n",
       "1  have_not_lecithin  have_not_salt  have_sugar   \n",
       "2  have_not_lecithin  have_not_salt  have_sugar   \n",
       "3      have_lecithin  have_not_salt  have_sugar   \n",
       "4      have_lecithin  have_not_salt  have_sugar   \n",
       "\n",
       "            sweetener_without_sugar first_taste second_taste third_taste  \\\n",
       "0  have_not_sweetener_without_sugar       cocoa   blackberry   full body   \n",
       "1  have_not_sweetener_without_sugar       cocoa      vegetal      savory   \n",
       "2  have_not_sweetener_without_sugar  rich cocoa        fatty      bready   \n",
       "3  have_not_sweetener_without_sugar      fruity        melon      roasty   \n",
       "4  have_not_sweetener_without_sugar     vegetal        nutty         NaN   \n",
       "\n",
       "  fourth_taste  \n",
       "0          NaN  \n",
       "1          NaN  \n",
       "2          NaN  \n",
       "3          NaN  \n",
       "4          NaN  \n",
       "\n",
       "[5 rows x 21 columns]"
      ]
     },
     "execution_count": 42,
     "metadata": {},
     "output_type": "execute_result"
    }
   ],
   "source": [
    "\n",
    "import pandas as pd \n",
    "import numpy as np\n",
    "import seaborn as sns \n",
    "import os\n",
    "import matplotlib.pyplot as plt \n",
    "\n",
    "%matplotlib inline\n",
    "\n",
    "\n",
    "data1 = pd.read_csv('chocolate.csv')\n",
    "data1.head()"
   ]
  },
  {
   "cell_type": "code",
   "execution_count": 43,
   "id": "6ff4d952",
   "metadata": {},
   "outputs": [
    {
     "data": {
      "text/html": [
       "<div>\n",
       "<style scoped>\n",
       "    .dataframe tbody tr th:only-of-type {\n",
       "        vertical-align: middle;\n",
       "    }\n",
       "\n",
       "    .dataframe tbody tr th {\n",
       "        vertical-align: top;\n",
       "    }\n",
       "\n",
       "    .dataframe thead th {\n",
       "        text-align: right;\n",
       "    }\n",
       "</style>\n",
       "<table border=\"1\" class=\"dataframe\">\n",
       "  <thead>\n",
       "    <tr style=\"text-align: right;\">\n",
       "      <th></th>\n",
       "      <th>Unnamed: 0</th>\n",
       "      <th>ref</th>\n",
       "      <th>company</th>\n",
       "      <th>company_location</th>\n",
       "      <th>review_date</th>\n",
       "      <th>country_of_bean_origin</th>\n",
       "      <th>specific_bean_origin_or_bar_name</th>\n",
       "      <th>cocoa_percent</th>\n",
       "      <th>rating</th>\n",
       "      <th>counts_of_ingredients</th>\n",
       "      <th>...</th>\n",
       "      <th>cocoa_butter</th>\n",
       "      <th>vanilla</th>\n",
       "      <th>lecithin</th>\n",
       "      <th>salt</th>\n",
       "      <th>sugar</th>\n",
       "      <th>sweetener_without_sugar</th>\n",
       "      <th>first_taste</th>\n",
       "      <th>second_taste</th>\n",
       "      <th>third_taste</th>\n",
       "      <th>fourth_taste</th>\n",
       "    </tr>\n",
       "  </thead>\n",
       "  <tbody>\n",
       "    <tr>\n",
       "      <th>2219</th>\n",
       "      <td>2219</td>\n",
       "      <td>1205</td>\n",
       "      <td>Zotter</td>\n",
       "      <td>Austria</td>\n",
       "      <td>2014</td>\n",
       "      <td>Blend</td>\n",
       "      <td>Raw</td>\n",
       "      <td>80.0</td>\n",
       "      <td>2.75</td>\n",
       "      <td>4</td>\n",
       "      <td>...</td>\n",
       "      <td>have_cocoa_butter</td>\n",
       "      <td>have_not_vanila</td>\n",
       "      <td>have_not_lecithin</td>\n",
       "      <td>have_salt</td>\n",
       "      <td>have_not_sugar</td>\n",
       "      <td>have_sweetener_without_sugar</td>\n",
       "      <td>waxy</td>\n",
       "      <td>cloying</td>\n",
       "      <td>vegetal</td>\n",
       "      <td>NaN</td>\n",
       "    </tr>\n",
       "    <tr>\n",
       "      <th>2220</th>\n",
       "      <td>2220</td>\n",
       "      <td>1996</td>\n",
       "      <td>Zotter</td>\n",
       "      <td>Austria</td>\n",
       "      <td>2017</td>\n",
       "      <td>Colombia</td>\n",
       "      <td>APROCAFA, Acandi</td>\n",
       "      <td>75.0</td>\n",
       "      <td>3.75</td>\n",
       "      <td>3</td>\n",
       "      <td>...</td>\n",
       "      <td>have_cocoa_butter</td>\n",
       "      <td>have_not_vanila</td>\n",
       "      <td>have_not_lecithin</td>\n",
       "      <td>have_not_salt</td>\n",
       "      <td>have_sugar</td>\n",
       "      <td>have_not_sweetener_without_sugar</td>\n",
       "      <td>strong nutty</td>\n",
       "      <td>marshmallow</td>\n",
       "      <td>NaN</td>\n",
       "      <td>NaN</td>\n",
       "    </tr>\n",
       "    <tr>\n",
       "      <th>2221</th>\n",
       "      <td>2221</td>\n",
       "      <td>2170</td>\n",
       "      <td>Zotter</td>\n",
       "      <td>Austria</td>\n",
       "      <td>2018</td>\n",
       "      <td>Belize</td>\n",
       "      <td>Maya Mtn</td>\n",
       "      <td>72.0</td>\n",
       "      <td>3.50</td>\n",
       "      <td>3</td>\n",
       "      <td>...</td>\n",
       "      <td>have_cocoa_butter</td>\n",
       "      <td>have_not_vanila</td>\n",
       "      <td>have_not_lecithin</td>\n",
       "      <td>have_not_salt</td>\n",
       "      <td>have_sugar</td>\n",
       "      <td>have_not_sweetener_without_sugar</td>\n",
       "      <td>muted</td>\n",
       "      <td>roasty</td>\n",
       "      <td>accessible</td>\n",
       "      <td>NaN</td>\n",
       "    </tr>\n",
       "    <tr>\n",
       "      <th>2222</th>\n",
       "      <td>2222</td>\n",
       "      <td>2170</td>\n",
       "      <td>Zotter</td>\n",
       "      <td>Austria</td>\n",
       "      <td>2018</td>\n",
       "      <td>Congo</td>\n",
       "      <td>Mountains of the Moon</td>\n",
       "      <td>70.0</td>\n",
       "      <td>3.25</td>\n",
       "      <td>3</td>\n",
       "      <td>...</td>\n",
       "      <td>have_cocoa_butter</td>\n",
       "      <td>have_not_vanila</td>\n",
       "      <td>have_not_lecithin</td>\n",
       "      <td>have_not_salt</td>\n",
       "      <td>have_sugar</td>\n",
       "      <td>have_not_sweetener_without_sugar</td>\n",
       "      <td>fatty</td>\n",
       "      <td>mild nuts</td>\n",
       "      <td>mild fruit</td>\n",
       "      <td>NaN</td>\n",
       "    </tr>\n",
       "    <tr>\n",
       "      <th>2223</th>\n",
       "      <td>2223</td>\n",
       "      <td>2036</td>\n",
       "      <td>Zotter</td>\n",
       "      <td>Austria</td>\n",
       "      <td>2018</td>\n",
       "      <td>Blend</td>\n",
       "      <td>Dry Aged, 30 yr Anniversary bar</td>\n",
       "      <td>75.0</td>\n",
       "      <td>3.00</td>\n",
       "      <td>3</td>\n",
       "      <td>...</td>\n",
       "      <td>have_cocoa_butter</td>\n",
       "      <td>have_not_vanila</td>\n",
       "      <td>have_not_lecithin</td>\n",
       "      <td>have_not_salt</td>\n",
       "      <td>have_sugar</td>\n",
       "      <td>have_not_sweetener_without_sugar</td>\n",
       "      <td>fatty</td>\n",
       "      <td>earthy</td>\n",
       "      <td>cocoa</td>\n",
       "      <td>NaN</td>\n",
       "    </tr>\n",
       "  </tbody>\n",
       "</table>\n",
       "<p>5 rows × 21 columns</p>\n",
       "</div>"
      ],
      "text/plain": [
       "      Unnamed: 0   ref company company_location  review_date  \\\n",
       "2219        2219  1205  Zotter          Austria         2014   \n",
       "2220        2220  1996  Zotter          Austria         2017   \n",
       "2221        2221  2170  Zotter          Austria         2018   \n",
       "2222        2222  2170  Zotter          Austria         2018   \n",
       "2223        2223  2036  Zotter          Austria         2018   \n",
       "\n",
       "     country_of_bean_origin specific_bean_origin_or_bar_name  cocoa_percent  \\\n",
       "2219                  Blend                              Raw           80.0   \n",
       "2220               Colombia                 APROCAFA, Acandi           75.0   \n",
       "2221                 Belize                         Maya Mtn           72.0   \n",
       "2222                  Congo            Mountains of the Moon           70.0   \n",
       "2223                  Blend  Dry Aged, 30 yr Anniversary bar           75.0   \n",
       "\n",
       "      rating  counts_of_ingredients  ...       cocoa_butter          vanilla  \\\n",
       "2219    2.75                      4  ...  have_cocoa_butter  have_not_vanila   \n",
       "2220    3.75                      3  ...  have_cocoa_butter  have_not_vanila   \n",
       "2221    3.50                      3  ...  have_cocoa_butter  have_not_vanila   \n",
       "2222    3.25                      3  ...  have_cocoa_butter  have_not_vanila   \n",
       "2223    3.00                      3  ...  have_cocoa_butter  have_not_vanila   \n",
       "\n",
       "               lecithin           salt           sugar  \\\n",
       "2219  have_not_lecithin      have_salt  have_not_sugar   \n",
       "2220  have_not_lecithin  have_not_salt      have_sugar   \n",
       "2221  have_not_lecithin  have_not_salt      have_sugar   \n",
       "2222  have_not_lecithin  have_not_salt      have_sugar   \n",
       "2223  have_not_lecithin  have_not_salt      have_sugar   \n",
       "\n",
       "               sweetener_without_sugar   first_taste second_taste third_taste  \\\n",
       "2219      have_sweetener_without_sugar          waxy      cloying     vegetal   \n",
       "2220  have_not_sweetener_without_sugar  strong nutty  marshmallow         NaN   \n",
       "2221  have_not_sweetener_without_sugar         muted       roasty  accessible   \n",
       "2222  have_not_sweetener_without_sugar         fatty    mild nuts  mild fruit   \n",
       "2223  have_not_sweetener_without_sugar         fatty       earthy       cocoa   \n",
       "\n",
       "     fourth_taste  \n",
       "2219          NaN  \n",
       "2220          NaN  \n",
       "2221          NaN  \n",
       "2222          NaN  \n",
       "2223          NaN  \n",
       "\n",
       "[5 rows x 21 columns]"
      ]
     },
     "execution_count": 43,
     "metadata": {},
     "output_type": "execute_result"
    }
   ],
   "source": [
    "data1.tail()"
   ]
  },
  {
   "cell_type": "code",
   "execution_count": 44,
   "id": "484d34c9",
   "metadata": {},
   "outputs": [
    {
     "name": "stdout",
     "output_type": "stream",
     "text": [
      "<class 'pandas.core.frame.DataFrame'>\n",
      "RangeIndex: 2224 entries, 0 to 2223\n",
      "Data columns (total 21 columns):\n",
      " #   Column                            Non-Null Count  Dtype  \n",
      "---  ------                            --------------  -----  \n",
      " 0   Unnamed: 0                        2224 non-null   int64  \n",
      " 1   ref                               2224 non-null   int64  \n",
      " 2   company                           2224 non-null   object \n",
      " 3   company_location                  2224 non-null   object \n",
      " 4   review_date                       2224 non-null   int64  \n",
      " 5   country_of_bean_origin            2224 non-null   object \n",
      " 6   specific_bean_origin_or_bar_name  2224 non-null   object \n",
      " 7   cocoa_percent                     2224 non-null   float64\n",
      " 8   rating                            2224 non-null   float64\n",
      " 9   counts_of_ingredients             2224 non-null   int64  \n",
      " 10  beans                             2224 non-null   object \n",
      " 11  cocoa_butter                      2224 non-null   object \n",
      " 12  vanilla                           2224 non-null   object \n",
      " 13  lecithin                          2224 non-null   object \n",
      " 14  salt                              2224 non-null   object \n",
      " 15  sugar                             2224 non-null   object \n",
      " 16  sweetener_without_sugar           2224 non-null   object \n",
      " 17  first_taste                       2224 non-null   object \n",
      " 18  second_taste                      2147 non-null   object \n",
      " 19  third_taste                       1604 non-null   object \n",
      " 20  fourth_taste                      242 non-null    object \n",
      "dtypes: float64(2), int64(4), object(15)\n",
      "memory usage: 365.0+ KB\n"
     ]
    }
   ],
   "source": [
    "data1.info()"
   ]
  },
  {
   "cell_type": "code",
   "execution_count": 45,
   "id": "9b2e4376",
   "metadata": {},
   "outputs": [],
   "source": [
    "drop_columns = [ 'Unnamed: 0' , 'ref' ]\n",
    "\n",
    "data1 = data1.drop(drop_columns, axis=1)\n"
   ]
  },
  {
   "cell_type": "code",
   "execution_count": 46,
   "id": "e22d101b",
   "metadata": {},
   "outputs": [
    {
     "name": "stdout",
     "output_type": "stream",
     "text": [
      "<class 'pandas.core.frame.DataFrame'>\n",
      "RangeIndex: 2224 entries, 0 to 2223\n",
      "Data columns (total 19 columns):\n",
      " #   Column                            Non-Null Count  Dtype  \n",
      "---  ------                            --------------  -----  \n",
      " 0   company                           2224 non-null   object \n",
      " 1   company_location                  2224 non-null   object \n",
      " 2   review_date                       2224 non-null   int64  \n",
      " 3   country_of_bean_origin            2224 non-null   object \n",
      " 4   specific_bean_origin_or_bar_name  2224 non-null   object \n",
      " 5   cocoa_percent                     2224 non-null   float64\n",
      " 6   rating                            2224 non-null   float64\n",
      " 7   counts_of_ingredients             2224 non-null   int64  \n",
      " 8   beans                             2224 non-null   object \n",
      " 9   cocoa_butter                      2224 non-null   object \n",
      " 10  vanilla                           2224 non-null   object \n",
      " 11  lecithin                          2224 non-null   object \n",
      " 12  salt                              2224 non-null   object \n",
      " 13  sugar                             2224 non-null   object \n",
      " 14  sweetener_without_sugar           2224 non-null   object \n",
      " 15  first_taste                       2224 non-null   object \n",
      " 16  second_taste                      2147 non-null   object \n",
      " 17  third_taste                       1604 non-null   object \n",
      " 18  fourth_taste                      242 non-null    object \n",
      "dtypes: float64(2), int64(2), object(15)\n",
      "memory usage: 330.2+ KB\n"
     ]
    }
   ],
   "source": [
    "data1.info()"
   ]
  },
  {
   "cell_type": "code",
   "execution_count": 47,
   "id": "8b5e7d1a",
   "metadata": {},
   "outputs": [
    {
     "data": {
      "text/plain": [
       "(2224, 19)"
      ]
     },
     "execution_count": 47,
     "metadata": {},
     "output_type": "execute_result"
    }
   ],
   "source": [
    "data1.shape"
   ]
  },
  {
   "cell_type": "code",
   "execution_count": 48,
   "id": "1bf58cf7",
   "metadata": {},
   "outputs": [
    {
     "data": {
      "text/html": [
       "<div>\n",
       "<style scoped>\n",
       "    .dataframe tbody tr th:only-of-type {\n",
       "        vertical-align: middle;\n",
       "    }\n",
       "\n",
       "    .dataframe tbody tr th {\n",
       "        vertical-align: top;\n",
       "    }\n",
       "\n",
       "    .dataframe thead th {\n",
       "        text-align: right;\n",
       "    }\n",
       "</style>\n",
       "<table border=\"1\" class=\"dataframe\">\n",
       "  <thead>\n",
       "    <tr style=\"text-align: right;\">\n",
       "      <th></th>\n",
       "      <th>review_date</th>\n",
       "      <th>cocoa_percent</th>\n",
       "      <th>rating</th>\n",
       "      <th>counts_of_ingredients</th>\n",
       "    </tr>\n",
       "  </thead>\n",
       "  <tbody>\n",
       "    <tr>\n",
       "      <th>count</th>\n",
       "      <td>2224.000000</td>\n",
       "      <td>2224.000000</td>\n",
       "      <td>2224.000000</td>\n",
       "      <td>2224.000000</td>\n",
       "    </tr>\n",
       "    <tr>\n",
       "      <th>mean</th>\n",
       "      <td>2013.857914</td>\n",
       "      <td>71.493930</td>\n",
       "      <td>3.198561</td>\n",
       "      <td>3.075989</td>\n",
       "    </tr>\n",
       "    <tr>\n",
       "      <th>std</th>\n",
       "      <td>3.582151</td>\n",
       "      <td>5.278253</td>\n",
       "      <td>0.434329</td>\n",
       "      <td>0.929875</td>\n",
       "    </tr>\n",
       "    <tr>\n",
       "      <th>min</th>\n",
       "      <td>2006.000000</td>\n",
       "      <td>42.000000</td>\n",
       "      <td>1.000000</td>\n",
       "      <td>1.000000</td>\n",
       "    </tr>\n",
       "    <tr>\n",
       "      <th>25%</th>\n",
       "      <td>2011.000000</td>\n",
       "      <td>70.000000</td>\n",
       "      <td>3.000000</td>\n",
       "      <td>2.000000</td>\n",
       "    </tr>\n",
       "    <tr>\n",
       "      <th>50%</th>\n",
       "      <td>2014.000000</td>\n",
       "      <td>70.000000</td>\n",
       "      <td>3.250000</td>\n",
       "      <td>3.000000</td>\n",
       "    </tr>\n",
       "    <tr>\n",
       "      <th>75%</th>\n",
       "      <td>2016.000000</td>\n",
       "      <td>74.000000</td>\n",
       "      <td>3.500000</td>\n",
       "      <td>4.000000</td>\n",
       "    </tr>\n",
       "    <tr>\n",
       "      <th>max</th>\n",
       "      <td>2020.000000</td>\n",
       "      <td>100.000000</td>\n",
       "      <td>4.000000</td>\n",
       "      <td>6.000000</td>\n",
       "    </tr>\n",
       "  </tbody>\n",
       "</table>\n",
       "</div>"
      ],
      "text/plain": [
       "       review_date  cocoa_percent       rating  counts_of_ingredients\n",
       "count  2224.000000    2224.000000  2224.000000            2224.000000\n",
       "mean   2013.857914      71.493930     3.198561               3.075989\n",
       "std       3.582151       5.278253     0.434329               0.929875\n",
       "min    2006.000000      42.000000     1.000000               1.000000\n",
       "25%    2011.000000      70.000000     3.000000               2.000000\n",
       "50%    2014.000000      70.000000     3.250000               3.000000\n",
       "75%    2016.000000      74.000000     3.500000               4.000000\n",
       "max    2020.000000     100.000000     4.000000               6.000000"
      ]
     },
     "execution_count": 48,
     "metadata": {},
     "output_type": "execute_result"
    }
   ],
   "source": [
    "data1.describe()"
   ]
  },
  {
   "cell_type": "code",
   "execution_count": 49,
   "id": "80bd880f",
   "metadata": {},
   "outputs": [
    {
     "name": "stdout",
     "output_type": "stream",
     "text": [
      "['5150' 'A. Morin' 'AMMA' 'Acalli' 'Adi aka Fijiana (Easy In Ltd)' 'Aelan'\n",
      " 'Aequare (Gianduja)' 'Ah Cacao' \"Akesson's (Pralus)\" 'Alain Ducasse'\n",
      " 'Alexandre' 'Altus aka Cao Artisan' 'Amano' 'Amatller (Simon Coll)'\n",
      " 'Amazona' 'Ambrosia' 'Amedei' 'Anahata' 'Animas' 'Ara' 'Arete'\n",
      " 'Argencove' 'Artisan du Chocolat' 'Artisan du Chocolat (Casa Luker)'\n",
      " 'Askinosie' 'Atypic' 'Auro' 'Bahen & Co.' 'Baiani' 'Bakau' 'Bankston'\n",
      " 'Bar Au Chocolat' \"Baravelli's\" 'Batch' 'Bean' 'Beau Cacao' 'Beehive'\n",
      " 'Belcolade' 'Bellflower' 'Belvie' 'Belyzium' 'Benns' 'Benoit Nihant'\n",
      " 'Bernachon' 'Beschle (Felchlin)' 'Bisou' 'Bitacora' 'Bittersweet Origins'\n",
      " 'Bixby' 'Black Mountain' 'Black River (A. Morin)' 'Blanxart'\n",
      " 'Blue Bandana' 'Boho' 'Bonaterra' 'Bonnat' 'Bouga Cacao (Tulicorp)'\n",
      " 'Box Chocolate' 'Brasstown' \"Brasstown aka It's Chocolate\" 'Brazen'\n",
      " 'Breeze Mill' 'Bright' 'Britarev' 'Bronx Grrl Chocolate' 'Bullion'\n",
      " 'Burnt Fork Bend' 'By Cacao' 'C-Amaro' 'Cacai Cacao' 'Cacao 70'\n",
      " 'Cacao Arabuco' 'Cacao Atlanta' 'Cacao Barry' 'Cacao Betulia'\n",
      " 'Cacao Hunters' 'Cacao Market' 'Cacao Prieto' 'Cacao Sampaka'\n",
      " 'Cacao Store' 'Cacao de Origen' 'Cacaosuyo'\n",
      " 'Cacaosuyo (Theobroma Inversiones)' 'Cacaoyere (Ecuatoriana)' 'Cao'\n",
      " 'Caoni (Tulicorp)' 'Captain Pembleton' 'Caribeans' 'Carlotta Chocolat'\n",
      " 'Casa' 'Casa Lasevicius' 'Castronovo' 'Cello' 'Chaleur B' 'Chapon'\n",
      " 'Charm School' 'Chchukululu (Tulicorp)' 'Chequessett' 'Chocablog'\n",
      " 'Choco Del Sol' 'Choco Dong' 'Chococard (Lapos)' \"Chocola'te\"\n",
      " 'Chocolarder' 'Chocolate Alchemist-Philly' 'Chocolate Con Amor'\n",
      " 'Chocolate Conspiracy' 'Chocolate Makers' 'Chocolate Tree, The'\n",
      " 'Chocolatoa' 'Chocolats Privilege' 'Chocolibrium' 'Chocovic' 'Chocovivo'\n",
      " 'Choklat' 'Chokolat Elot (Girard)' 'Choocsol' 'Christophe Toury'\n",
      " 'Christopher Elbow' 'Chuao Chocolatier' 'Chuao Chocolatier (Pralus)'\n",
      " 'Claudio Corallo' 'Cloudforest' 'Coco' 'Cocoa Carib' 'Coleman & Davis'\n",
      " 'Condor' 'Confluence' 'Coppeneur' 'Cravve' 'Creo' 'Crow and Moss' 'DAR'\n",
      " 'Daintree' 'Dalloway' 'Damson' 'Dandelion' 'Dandelion (aka Brower Ave)'\n",
      " 'Danta' 'Darcis' 'Dark Forest' 'Davis' 'De Mendes' 'De Villiers'\n",
      " 'DeVries' 'Dean and Deluca (Belcolade)'\n",
      " 'Debauve & Gallais (Michel Cluizel)' 'Definite' 'Desbarres' 'Dick Taylor'\n",
      " 'Diogo Vaz' 'Doble & Bignall' 'Dolfin (Belcolade)' 'Domori' 'Dormouse'\n",
      " 'Double Spiral' \"Duffy's\" 'Dulcinea' 'Durci' 'ENNA' 'East Van Roasters'\n",
      " 'Eau de Rose' 'Eclat (Felchlin)' 'Eclat (Fruition)' 'Edelmond' 'El Ceibo'\n",
      " 'El Rey' 'Eldora' 'Emerald Estate' \"Emily's\" 'Encuentro'\n",
      " 'Erithaj (A. Morin)' 'Escazu' \"Ethel's Artisan (Mars)\" 'Ethereal'\n",
      " 'Exquisito' 'FJAK' 'Fearless (AMMA)' 'Feitoria Cacao' 'Felchlin' 'Finca'\n",
      " 'Finnia' 'Firetree' 'Five (5)Mile' 'Forever Cacao' 'Forteza (Cortes)'\n",
      " 'Fossa' 'Foundry' 'Franceschi' 'Frederic Blondeel' 'French Broad'\n",
      " 'Fresco' 'Fresh Coast' 'Fresh Coast aka Just Good Choc.' 'Friis Holm'\n",
      " 'Friis Holm (Bonnat)' 'Fruition' 'Fu Wan' 'Garden Island' 'Georgia Ramon'\n",
      " 'Glennmade' 'Gonzales' 'Goodnow' 'Goodnow Farms' 'Gotham' 'Grand Place'\n",
      " \"Green & Black's (ICAM)\" 'Green Bean to Bar' 'Grenada Chocolate Co.'\n",
      " 'Guido Castagna' 'Guittard' 'Habitual' 'Hachez' 'Hacienda El Castillo'\n",
      " 'Harper Macaw' 'Harris & James' 'Hazel Hill' 'Heilemann' 'Heinde & Verre'\n",
      " 'Heirloom Cacao Preservation (Brasstown)'\n",
      " 'Heirloom Cacao Preservation (Fruition)'\n",
      " 'Heirloom Cacao Preservation (Guittard)'\n",
      " 'Heirloom Cacao Preservation (Manoa)'\n",
      " 'Heirloom Cacao Preservation (Millcreek)'\n",
      " 'Heirloom Cacao Preservation (Mindo)'\n",
      " 'Heirloom Cacao Preservation (Zokoko)' 'Hogarth' 'Hoja Verde (Tulicorp)'\n",
      " 'Holy Cacao' 'Honest' 'Hotel Chocolat' 'Hotel Chocolat (Coppeneur)'\n",
      " 'Hummingbird' 'Idilio (Felchlin)' 'Indah' 'Indaphoria' 'Indi' 'Isidro'\n",
      " 'Islands Chocolate' 'Izard' 'Jacque Torres' 'Jean Marie Auboine'\n",
      " 'Johnny Iuzzini' 'Jordis' \"K'ul\" 'Kad Kokoa' 'Kah Kow' 'Kah Kow - USA'\n",
      " 'Kaitxo' 'Kallari (Ecuatoriana)' 'Kerchner' \"Ki' Xocolatl\" 'Kin + Pod'\n",
      " 'Kiskadee' 'Krak' 'Kto' 'Kyya' \"L'Amourette\" 'L.A. Burdick (Felchlin)'\n",
      " 'La Cascade du Chocolat' 'La Chorena' 'La Feverie (Hasnaa)'\n",
      " 'La Maison du Chocolat (Valrhona)' 'La Rifa' 'Laia aka Chat-Noir' 'Land'\n",
      " 'Landmark (Amano)' 'Legast' 'Letterpress' 'Levy' 'Lilla' 'Lillie Belle'\n",
      " 'Lindt & Sprungli' 'Loiza' 'Lonohana' 'Love Bar' 'Love Brown'\n",
      " 'Luisa Abram' 'Luker' 'MADE' 'MUCHO' 'Madecasse (Cinagra)' 'Madre'\n",
      " 'Maglio' 'Majani' 'Malagasy (Chocolaterie Robert)' 'Malagos' 'Malai'\n",
      " 'Malie Kai (Guittard)' 'Malmo' 'Mana' 'Manifesto Cacao' 'Manoa'\n",
      " 'Manufaktura Czekolady' 'Map Chocolate' 'Marana' \"Marigold's Finest\"\n",
      " 'Markham & Fitz' 'Marou' 'Marsatta' 'Martin Mayer' 'Mast Brothers'\n",
      " 'Matale' 'Maverick' 'Mayacama' 'McGuire' 'Meadowlands' 'Mellow'\n",
      " 'Menakao (aka Cinagra)' 'Mesocacao' 'Mestico' 'Metiisto' 'Metropolitan'\n",
      " 'Meybol' 'Michel Cluizel' 'Middlebury' 'Mike & Becky'\n",
      " 'Millcreek Cacao Roasters' 'Millesime' 'Milton' 'Mindo' 'Minimal'\n",
      " 'Mirzam' 'Misina' 'Mission' 'Moho' 'Moka' 'Molucca' 'Momotombo'\n",
      " 'Monarque' 'Monsoon' 'Muchomas (Mesocacao)' 'Musee du Chocolat Theobroma'\n",
      " 'Mutari' 'Nahua' 'Naive' 'Nathan Miller' 'Nearynogs'\n",
      " 'Neuhaus (Callebaut)' 'Nibble' 'Night Owl' 'Nikoa' 'Nina'\n",
      " 'Ninth (9th) & Larkin' 'Noble Bean aka Jerjobo' 'Nova Monda' 'Nuance'\n",
      " 'Nugali' 'Oakland Chocolate Co.' 'Obolo' 'Ocelot' 'Ocho' 'Ohiyo'\n",
      " 'Oialla by Bojessen (Malmo)' 'Olive and Sinclair' 'Olivia' 'Omanhene'\n",
      " 'Omnom' 'Original Beans (Felchlin)' 'Original Hawaiin Chocolate Factory'\n",
      " 'Orquidea' 'Pacari' \"Palet D'Or\" 'Palette de Bine' 'Pangea' 'Park 75'\n",
      " 'Parliament' 'Parre Chocolat' 'Pascha' 'Patric' 'Paul Young' 'Peppalo'\n",
      " 'Perrenial' 'Petite Patrie' 'Pierre Marcolini' 'Piety and Desire'\n",
      " 'Pinellas' 'Pitch Dark' 'Pomm (aka Dead Dog)' 'Potomac' 'Pralus'\n",
      " 'Primo Botanica' 'Public Chocolatory' 'Pump Street Bakery' 'Pura Delizia'\n",
      " 'Q Chocolate' 'Qantu' 'Quetzalli (Wolter)' 'Raaka' 'Rain Republic'\n",
      " 'Ranger' 'Raoul Boulanger' 'Raphio' 'Republica del Cacao (aka Confecta)'\n",
      " 'Ritual' 'River-Sea' 'Roasting Masters'\n",
      " 'Robert (aka Chocolaterie Robert)' 'Rogue' 'Rozsavolgyi' 'Ruket' 'SRSLY'\n",
      " 'Sacred' 'Salgado' 'San Jose' 'Santander (Compania Nacional)' 'Santome'\n",
      " 'Scharffen Berger' 'Seaforth' 'Seahorse' 'Shane Chocolate Works'\n",
      " 'Shark Mountain' \"Shark's\" 'Shattell' 'Sibu' 'Silvio Bessone' 'Sirene'\n",
      " 'Sjolinds' 'Smooth Chocolator, The' 'Snake & Butterfly' 'Soeka' 'Soklet'\n",
      " 'Sol Cacao' 'Solkiki' 'Solomons Gold' 'Solstice' 'Soma' 'Somerville'\n",
      " 'Soul' 'Spagnvola' 'Spencer' 'Sprungli (Felchlin)' 'StRita Supreme'\n",
      " 'Starchild' 'Stella (aka Bernrain)' 'Stone Grindz' 'Sublime Origins'\n",
      " 'Summerbird' 'Suruca Chocolate' 'Svenska Kakaobolaget' 'Sweet Escalier'\n",
      " 'Sweetness' 'Szanto Tibor' 'TCHO' 'Tabal' 'Tablette (aka Vanillabeans)'\n",
      " 'Tala' 'Tan Ban Skrati' 'Taste Artisan' 'Taucherli' 'Taza' 'Tejas'\n",
      " 'Terroir' 'The Barn' 'Theo' 'Theobroma' 'Thistle & Rose aka Aggie USU'\n",
      " 'Tibito' 'Timo A. Meyer' 'Tiny House' \"To'ak (Ecuatoriana)\" 'Tocoti'\n",
      " 'Tosier' 'Tree to Bar' 'Treehouse' 'Tribar' 'Tribe' 'Two Ravens'\n",
      " 'Uncouth' 'Undone' 'Upchurch' 'Urzi' 'Utopick' 'Vaka' 'Valrhona'\n",
      " 'Vao Vao (Chocolaterie Robert)' 'Vicuna' 'Videri' 'Vietcacao (A. Morin)'\n",
      " 'Vintage Plantations' 'Vintage Plantations (Tulicorp)' 'Violet Sky'\n",
      " 'Vivra' 'Wellington Chocolate Factory' 'White Label' \"Wilkie's Organic\"\n",
      " \"Willie's Cacao\" 'Wm' 'Woodblock' 'Xocolat' 'Xocolatisimo' 'Xocolla'\n",
      " \"Zak's\" 'Zart Pralinen' 'Zokoko' 'Zoto (Chocolatoa)' 'Zotter'\n",
      " 'hello cocoa' 'hexx' 'iQ Chocolate' 'organicfair'\n",
      " 'twenty-four blackbirds']\n"
     ]
    }
   ],
   "source": [
    "print (data1['company'].sort_values().unique())"
   ]
  },
  {
   "cell_type": "code",
   "execution_count": 50,
   "id": "a4c22ef5",
   "metadata": {},
   "outputs": [
    {
     "name": "stdout",
     "output_type": "stream",
     "text": [
      "Row: 2,224\n",
      "Columns: 19\n"
     ]
    }
   ],
   "source": [
    "print(f'Row: {data1.shape[0]:,}')\n",
    "\n",
    "print(f'Columns: {data1.shape[1]:,}')"
   ]
  },
  {
   "cell_type": "code",
   "execution_count": 51,
   "id": "ec4d6f30",
   "metadata": {},
   "outputs": [
    {
     "data": {
      "text/plain": [
       "Index(['company', 'company_location', 'review_date', 'country_of_bean_origin',\n",
       "       'specific_bean_origin_or_bar_name', 'cocoa_percent', 'rating',\n",
       "       'counts_of_ingredients', 'beans', 'cocoa_butter', 'vanilla', 'lecithin',\n",
       "       'salt', 'sugar', 'sweetener_without_sugar', 'first_taste',\n",
       "       'second_taste', 'third_taste', 'fourth_taste'],\n",
       "      dtype='object')"
      ]
     },
     "execution_count": 51,
     "metadata": {},
     "output_type": "execute_result"
    }
   ],
   "source": [
    "data1.columns"
   ]
  },
  {
   "cell_type": "code",
   "execution_count": 52,
   "id": "65f0f816",
   "metadata": {},
   "outputs": [
    {
     "name": "stdout",
     "output_type": "stream",
     "text": [
      "<class 'pandas.core.frame.DataFrame'>\n",
      "Int64Index: 242 entries, 5 to 2215\n",
      "Data columns (total 19 columns):\n",
      " #   Column                            Non-Null Count  Dtype  \n",
      "---  ------                            --------------  -----  \n",
      " 0   company                           242 non-null    object \n",
      " 1   company_location                  242 non-null    object \n",
      " 2   review_date                       242 non-null    int64  \n",
      " 3   country_of_bean_origin            242 non-null    object \n",
      " 4   specific_bean_origin_or_bar_name  242 non-null    object \n",
      " 5   cocoa_percent                     242 non-null    float64\n",
      " 6   rating                            242 non-null    float64\n",
      " 7   counts_of_ingredients             242 non-null    int64  \n",
      " 8   beans                             242 non-null    object \n",
      " 9   cocoa_butter                      242 non-null    object \n",
      " 10  vanilla                           242 non-null    object \n",
      " 11  lecithin                          242 non-null    object \n",
      " 12  salt                              242 non-null    object \n",
      " 13  sugar                             242 non-null    object \n",
      " 14  sweetener_without_sugar           242 non-null    object \n",
      " 15  first_taste                       242 non-null    object \n",
      " 16  second_taste                      242 non-null    object \n",
      " 17  third_taste                       242 non-null    object \n",
      " 18  fourth_taste                      242 non-null    object \n",
      "dtypes: float64(2), int64(2), object(15)\n",
      "memory usage: 37.8+ KB\n"
     ]
    }
   ],
   "source": [
    "data1 = data1.dropna()\n",
    "data1.info()"
   ]
  },
  {
   "cell_type": "markdown",
   "id": "b4892894",
   "metadata": {},
   "source": [
    "Now the data is sorted in the rating of the chocolate"
   ]
  },
  {
   "cell_type": "code",
   "execution_count": 53,
   "id": "e9d6c9e9",
   "metadata": {},
   "outputs": [
    {
     "data": {
      "text/html": [
       "<div>\n",
       "<style scoped>\n",
       "    .dataframe tbody tr th:only-of-type {\n",
       "        vertical-align: middle;\n",
       "    }\n",
       "\n",
       "    .dataframe tbody tr th {\n",
       "        vertical-align: top;\n",
       "    }\n",
       "\n",
       "    .dataframe thead th {\n",
       "        text-align: right;\n",
       "    }\n",
       "</style>\n",
       "<table border=\"1\" class=\"dataframe\">\n",
       "  <thead>\n",
       "    <tr style=\"text-align: right;\">\n",
       "      <th></th>\n",
       "      <th>company</th>\n",
       "      <th>company_location</th>\n",
       "      <th>review_date</th>\n",
       "      <th>country_of_bean_origin</th>\n",
       "      <th>specific_bean_origin_or_bar_name</th>\n",
       "      <th>cocoa_percent</th>\n",
       "      <th>rating</th>\n",
       "      <th>counts_of_ingredients</th>\n",
       "      <th>beans</th>\n",
       "      <th>cocoa_butter</th>\n",
       "      <th>vanilla</th>\n",
       "      <th>lecithin</th>\n",
       "      <th>salt</th>\n",
       "      <th>sugar</th>\n",
       "      <th>sweetener_without_sugar</th>\n",
       "      <th>first_taste</th>\n",
       "      <th>second_taste</th>\n",
       "      <th>third_taste</th>\n",
       "      <th>fourth_taste</th>\n",
       "    </tr>\n",
       "  </thead>\n",
       "  <tbody>\n",
       "    <tr>\n",
       "      <th>5</th>\n",
       "      <td>A. Morin</td>\n",
       "      <td>France</td>\n",
       "      <td>2013</td>\n",
       "      <td>Venezuela</td>\n",
       "      <td>Chuao</td>\n",
       "      <td>70.0</td>\n",
       "      <td>4.0</td>\n",
       "      <td>4</td>\n",
       "      <td>have_bean</td>\n",
       "      <td>have_cocoa_butter</td>\n",
       "      <td>have_not_vanila</td>\n",
       "      <td>have_lecithin</td>\n",
       "      <td>have_not_salt</td>\n",
       "      <td>have_sugar</td>\n",
       "      <td>have_not_sweetener_without_sugar</td>\n",
       "      <td>oily</td>\n",
       "      <td>nut</td>\n",
       "      <td>caramel</td>\n",
       "      <td>raspberry</td>\n",
       "    </tr>\n",
       "    <tr>\n",
       "      <th>1352</th>\n",
       "      <td>Matale</td>\n",
       "      <td>Australia</td>\n",
       "      <td>2013</td>\n",
       "      <td>Papua new guinea</td>\n",
       "      <td>Kulili P., 2013</td>\n",
       "      <td>74.0</td>\n",
       "      <td>4.0</td>\n",
       "      <td>3</td>\n",
       "      <td>have_bean</td>\n",
       "      <td>have_cocoa_butter</td>\n",
       "      <td>have_not_vanila</td>\n",
       "      <td>have_not_lecithin</td>\n",
       "      <td>have_not_salt</td>\n",
       "      <td>have_sugar</td>\n",
       "      <td>have_not_sweetener_without_sugar</td>\n",
       "      <td>creamy</td>\n",
       "      <td>grassy</td>\n",
       "      <td>smoke</td>\n",
       "      <td>nut</td>\n",
       "    </tr>\n",
       "    <tr>\n",
       "      <th>1756</th>\n",
       "      <td>Rogue</td>\n",
       "      <td>U.S.A</td>\n",
       "      <td>2013</td>\n",
       "      <td>Bolivia</td>\n",
       "      <td>Silvestre, Batch 7, 2013</td>\n",
       "      <td>75.0</td>\n",
       "      <td>4.0</td>\n",
       "      <td>2</td>\n",
       "      <td>have_bean</td>\n",
       "      <td>have_not_cocoa_butter</td>\n",
       "      <td>have_not_vanila</td>\n",
       "      <td>have_not_lecithin</td>\n",
       "      <td>have_not_salt</td>\n",
       "      <td>have_sugar</td>\n",
       "      <td>have_not_sweetener_without_sugar</td>\n",
       "      <td>smooth</td>\n",
       "      <td>banana</td>\n",
       "      <td>tart</td>\n",
       "      <td>roasty</td>\n",
       "    </tr>\n",
       "    <tr>\n",
       "      <th>1804</th>\n",
       "      <td>Scharffen Berger</td>\n",
       "      <td>U.S.A</td>\n",
       "      <td>2012</td>\n",
       "      <td>Peru</td>\n",
       "      <td>San Juan de Cheni</td>\n",
       "      <td>78.0</td>\n",
       "      <td>4.0</td>\n",
       "      <td>4</td>\n",
       "      <td>have_bean</td>\n",
       "      <td>have_cocoa_butter</td>\n",
       "      <td>have_not_vanila</td>\n",
       "      <td>have_lecithin</td>\n",
       "      <td>have_not_salt</td>\n",
       "      <td>have_sugar</td>\n",
       "      <td>have_not_sweetener_without_sugar</td>\n",
       "      <td>banana</td>\n",
       "      <td>pear</td>\n",
       "      <td>spice</td>\n",
       "      <td>cheese</td>\n",
       "    </tr>\n",
       "    <tr>\n",
       "      <th>380</th>\n",
       "      <td>Cacao Sampaka</td>\n",
       "      <td>Spain</td>\n",
       "      <td>2009</td>\n",
       "      <td>Mexico</td>\n",
       "      <td>Xoconusco, Chiapas, cacao Real</td>\n",
       "      <td>70.0</td>\n",
       "      <td>4.0</td>\n",
       "      <td>4</td>\n",
       "      <td>have_bean</td>\n",
       "      <td>have_cocoa_butter</td>\n",
       "      <td>have_not_vanila</td>\n",
       "      <td>have_lecithin</td>\n",
       "      <td>have_not_salt</td>\n",
       "      <td>have_sugar</td>\n",
       "      <td>have_not_sweetener_without_sugar</td>\n",
       "      <td>creamy</td>\n",
       "      <td>nutty</td>\n",
       "      <td>banana</td>\n",
       "      <td>rich</td>\n",
       "    </tr>\n",
       "  </tbody>\n",
       "</table>\n",
       "</div>"
      ],
      "text/plain": [
       "               company company_location  review_date country_of_bean_origin  \\\n",
       "5             A. Morin           France         2013              Venezuela   \n",
       "1352            Matale        Australia         2013       Papua new guinea   \n",
       "1756             Rogue            U.S.A         2013                Bolivia   \n",
       "1804  Scharffen Berger            U.S.A         2012                   Peru   \n",
       "380      Cacao Sampaka            Spain         2009                 Mexico   \n",
       "\n",
       "     specific_bean_origin_or_bar_name  cocoa_percent  rating  \\\n",
       "5                               Chuao           70.0     4.0   \n",
       "1352                  Kulili P., 2013           74.0     4.0   \n",
       "1756         Silvestre, Batch 7, 2013           75.0     4.0   \n",
       "1804                San Juan de Cheni           78.0     4.0   \n",
       "380    Xoconusco, Chiapas, cacao Real           70.0     4.0   \n",
       "\n",
       "      counts_of_ingredients      beans           cocoa_butter  \\\n",
       "5                         4  have_bean      have_cocoa_butter   \n",
       "1352                      3  have_bean      have_cocoa_butter   \n",
       "1756                      2  have_bean  have_not_cocoa_butter   \n",
       "1804                      4  have_bean      have_cocoa_butter   \n",
       "380                       4  have_bean      have_cocoa_butter   \n",
       "\n",
       "              vanilla           lecithin           salt       sugar  \\\n",
       "5     have_not_vanila      have_lecithin  have_not_salt  have_sugar   \n",
       "1352  have_not_vanila  have_not_lecithin  have_not_salt  have_sugar   \n",
       "1756  have_not_vanila  have_not_lecithin  have_not_salt  have_sugar   \n",
       "1804  have_not_vanila      have_lecithin  have_not_salt  have_sugar   \n",
       "380   have_not_vanila      have_lecithin  have_not_salt  have_sugar   \n",
       "\n",
       "               sweetener_without_sugar first_taste second_taste third_taste  \\\n",
       "5     have_not_sweetener_without_sugar        oily          nut     caramel   \n",
       "1352  have_not_sweetener_without_sugar      creamy       grassy       smoke   \n",
       "1756  have_not_sweetener_without_sugar      smooth       banana        tart   \n",
       "1804  have_not_sweetener_without_sugar      banana         pear       spice   \n",
       "380   have_not_sweetener_without_sugar      creamy        nutty      banana   \n",
       "\n",
       "     fourth_taste  \n",
       "5       raspberry  \n",
       "1352          nut  \n",
       "1756       roasty  \n",
       "1804       cheese  \n",
       "380          rich  "
      ]
     },
     "execution_count": 53,
     "metadata": {},
     "output_type": "execute_result"
    }
   ],
   "source": [
    "data1_sorted = data1.sort_values(by = 'rating', ascending = False).head()\n",
    "data1_sorted"
   ]
  },
  {
   "cell_type": "code",
   "execution_count": 54,
   "id": "f8ae926a",
   "metadata": {},
   "outputs": [
    {
     "data": {
      "text/html": [
       "<div>\n",
       "<style scoped>\n",
       "    .dataframe tbody tr th:only-of-type {\n",
       "        vertical-align: middle;\n",
       "    }\n",
       "\n",
       "    .dataframe tbody tr th {\n",
       "        vertical-align: top;\n",
       "    }\n",
       "\n",
       "    .dataframe thead th {\n",
       "        text-align: right;\n",
       "    }\n",
       "</style>\n",
       "<table border=\"1\" class=\"dataframe\">\n",
       "  <thead>\n",
       "    <tr style=\"text-align: right;\">\n",
       "      <th></th>\n",
       "      <th>company</th>\n",
       "      <th>company_location</th>\n",
       "      <th>review_date</th>\n",
       "      <th>country_of_bean_origin</th>\n",
       "      <th>specific_bean_origin_or_bar_name</th>\n",
       "      <th>cocoa_percent</th>\n",
       "      <th>rating</th>\n",
       "      <th>counts_of_ingredients</th>\n",
       "      <th>beans</th>\n",
       "      <th>cocoa_butter</th>\n",
       "      <th>vanilla</th>\n",
       "      <th>lecithin</th>\n",
       "      <th>salt</th>\n",
       "      <th>sugar</th>\n",
       "      <th>sweetener_without_sugar</th>\n",
       "      <th>first_taste</th>\n",
       "      <th>second_taste</th>\n",
       "      <th>third_taste</th>\n",
       "      <th>fourth_taste</th>\n",
       "    </tr>\n",
       "  </thead>\n",
       "  <tbody>\n",
       "    <tr>\n",
       "      <th>1453</th>\n",
       "      <td>MUCHO</td>\n",
       "      <td>Mexico</td>\n",
       "      <td>2020</td>\n",
       "      <td>Mexico</td>\n",
       "      <td>Finca La Rioja E., Cacahoatan, Chiapas</td>\n",
       "      <td>70.0</td>\n",
       "      <td>3.00</td>\n",
       "      <td>3</td>\n",
       "      <td>have_bean</td>\n",
       "      <td>have_cocoa_butter</td>\n",
       "      <td>have_not_vanila</td>\n",
       "      <td>have_not_lecithin</td>\n",
       "      <td>have_not_salt</td>\n",
       "      <td>have_sugar</td>\n",
       "      <td>have_not_sweetener_without_sugar</td>\n",
       "      <td>light color</td>\n",
       "      <td>spicy</td>\n",
       "      <td>sweet</td>\n",
       "      <td>sour</td>\n",
       "    </tr>\n",
       "    <tr>\n",
       "      <th>1628</th>\n",
       "      <td>Piety and Desire</td>\n",
       "      <td>U.S.A</td>\n",
       "      <td>2020</td>\n",
       "      <td>Tanzania</td>\n",
       "      <td>Kokoa Kamili, Kilombero Valley, batch 304</td>\n",
       "      <td>70.0</td>\n",
       "      <td>3.50</td>\n",
       "      <td>3</td>\n",
       "      <td>have_bean</td>\n",
       "      <td>have_cocoa_butter</td>\n",
       "      <td>have_not_vanila</td>\n",
       "      <td>have_not_lecithin</td>\n",
       "      <td>have_not_salt</td>\n",
       "      <td>have_sugar</td>\n",
       "      <td>have_not_sweetener_without_sugar</td>\n",
       "      <td>sweet</td>\n",
       "      <td>cream</td>\n",
       "      <td>cherry</td>\n",
       "      <td>rich</td>\n",
       "    </tr>\n",
       "    <tr>\n",
       "      <th>1433</th>\n",
       "      <td>Misina</td>\n",
       "      <td>Czech republic</td>\n",
       "      <td>2020</td>\n",
       "      <td>Vietnam</td>\n",
       "      <td>Vietnam</td>\n",
       "      <td>70.0</td>\n",
       "      <td>3.50</td>\n",
       "      <td>3</td>\n",
       "      <td>have_bean</td>\n",
       "      <td>have_cocoa_butter</td>\n",
       "      <td>have_not_vanila</td>\n",
       "      <td>have_not_lecithin</td>\n",
       "      <td>have_not_salt</td>\n",
       "      <td>have_sugar</td>\n",
       "      <td>have_not_sweetener_without_sugar</td>\n",
       "      <td>sour fig</td>\n",
       "      <td>cocoa</td>\n",
       "      <td>creamy</td>\n",
       "      <td>fatty</td>\n",
       "    </tr>\n",
       "    <tr>\n",
       "      <th>2078</th>\n",
       "      <td>Tribe</td>\n",
       "      <td>Canada</td>\n",
       "      <td>2020</td>\n",
       "      <td>Vietnam</td>\n",
       "      <td>Dak Lak, batch 0A08</td>\n",
       "      <td>70.0</td>\n",
       "      <td>2.75</td>\n",
       "      <td>2</td>\n",
       "      <td>have_bean</td>\n",
       "      <td>have_not_cocoa_butter</td>\n",
       "      <td>have_not_vanila</td>\n",
       "      <td>have_not_lecithin</td>\n",
       "      <td>have_not_salt</td>\n",
       "      <td>have_sugar</td>\n",
       "      <td>have_not_sweetener_without_sugar</td>\n",
       "      <td>tart</td>\n",
       "      <td>sweet</td>\n",
       "      <td>sour</td>\n",
       "      <td>savory</td>\n",
       "    </tr>\n",
       "    <tr>\n",
       "      <th>782</th>\n",
       "      <td>Finnia</td>\n",
       "      <td>Canada</td>\n",
       "      <td>2020</td>\n",
       "      <td>Mexico</td>\n",
       "      <td>Mexico</td>\n",
       "      <td>70.0</td>\n",
       "      <td>3.00</td>\n",
       "      <td>3</td>\n",
       "      <td>have_bean</td>\n",
       "      <td>have_cocoa_butter</td>\n",
       "      <td>have_not_vanila</td>\n",
       "      <td>have_not_lecithin</td>\n",
       "      <td>have_not_salt</td>\n",
       "      <td>have_sugar</td>\n",
       "      <td>have_not_sweetener_without_sugar</td>\n",
       "      <td>banana</td>\n",
       "      <td>bland</td>\n",
       "      <td>sour</td>\n",
       "      <td>off</td>\n",
       "    </tr>\n",
       "  </tbody>\n",
       "</table>\n",
       "</div>"
      ],
      "text/plain": [
       "               company company_location  review_date country_of_bean_origin  \\\n",
       "1453             MUCHO           Mexico         2020                 Mexico   \n",
       "1628  Piety and Desire            U.S.A         2020               Tanzania   \n",
       "1433            Misina   Czech republic         2020                Vietnam   \n",
       "2078             Tribe           Canada         2020                Vietnam   \n",
       "782             Finnia           Canada         2020                 Mexico   \n",
       "\n",
       "               specific_bean_origin_or_bar_name  cocoa_percent  rating  \\\n",
       "1453     Finca La Rioja E., Cacahoatan, Chiapas           70.0    3.00   \n",
       "1628  Kokoa Kamili, Kilombero Valley, batch 304           70.0    3.50   \n",
       "1433                                    Vietnam           70.0    3.50   \n",
       "2078                        Dak Lak, batch 0A08           70.0    2.75   \n",
       "782                                      Mexico           70.0    3.00   \n",
       "\n",
       "      counts_of_ingredients      beans           cocoa_butter  \\\n",
       "1453                      3  have_bean      have_cocoa_butter   \n",
       "1628                      3  have_bean      have_cocoa_butter   \n",
       "1433                      3  have_bean      have_cocoa_butter   \n",
       "2078                      2  have_bean  have_not_cocoa_butter   \n",
       "782                       3  have_bean      have_cocoa_butter   \n",
       "\n",
       "              vanilla           lecithin           salt       sugar  \\\n",
       "1453  have_not_vanila  have_not_lecithin  have_not_salt  have_sugar   \n",
       "1628  have_not_vanila  have_not_lecithin  have_not_salt  have_sugar   \n",
       "1433  have_not_vanila  have_not_lecithin  have_not_salt  have_sugar   \n",
       "2078  have_not_vanila  have_not_lecithin  have_not_salt  have_sugar   \n",
       "782   have_not_vanila  have_not_lecithin  have_not_salt  have_sugar   \n",
       "\n",
       "               sweetener_without_sugar  first_taste second_taste third_taste  \\\n",
       "1453  have_not_sweetener_without_sugar  light color        spicy       sweet   \n",
       "1628  have_not_sweetener_without_sugar        sweet        cream      cherry   \n",
       "1433  have_not_sweetener_without_sugar     sour fig        cocoa      creamy   \n",
       "2078  have_not_sweetener_without_sugar         tart        sweet        sour   \n",
       "782   have_not_sweetener_without_sugar       banana        bland        sour   \n",
       "\n",
       "     fourth_taste  \n",
       "1453         sour  \n",
       "1628         rich  \n",
       "1433        fatty  \n",
       "2078       savory  \n",
       "782           off  "
      ]
     },
     "execution_count": 54,
     "metadata": {},
     "output_type": "execute_result"
    }
   ],
   "source": [
    "data1_sorted = data1.sort_values(by = 'review_date', ascending = False).head()\n",
    "data1_sorted"
   ]
  },
  {
   "cell_type": "code",
   "execution_count": 55,
   "id": "a57b9ac7",
   "metadata": {},
   "outputs": [],
   "source": [
    "data1.columns = data1.columns.str.replace(' ','')"
   ]
  },
  {
   "cell_type": "markdown",
   "id": "e8b57f32",
   "metadata": {},
   "source": [
    "this shows that there is no missing values in the data.\n"
   ]
  },
  {
   "cell_type": "code",
   "execution_count": 56,
   "id": "6d3f1c5d",
   "metadata": {
    "scrolled": true
   },
   "outputs": [
    {
     "data": {
      "text/plain": [
       "company                             0\n",
       "company_location                    0\n",
       "review_date                         0\n",
       "country_of_bean_origin              0\n",
       "specific_bean_origin_or_bar_name    0\n",
       "cocoa_percent                       0\n",
       "rating                              0\n",
       "counts_of_ingredients               0\n",
       "beans                               0\n",
       "cocoa_butter                        0\n",
       "vanilla                             0\n",
       "lecithin                            0\n",
       "salt                                0\n",
       "sugar                               0\n",
       "sweetener_without_sugar             0\n",
       "first_taste                         0\n",
       "second_taste                        0\n",
       "third_taste                         0\n",
       "fourth_taste                        0\n",
       "dtype: int64"
      ]
     },
     "execution_count": 56,
     "metadata": {},
     "output_type": "execute_result"
    }
   ],
   "source": [
    "data1.isnull().sum()"
   ]
  },
  {
   "cell_type": "code",
   "execution_count": 57,
   "id": "1d1e0d27",
   "metadata": {},
   "outputs": [
    {
     "data": {
      "text/plain": [
       "<AxesSubplot:xlabel='company', ylabel='rating'>"
      ]
     },
     "execution_count": 57,
     "metadata": {},
     "output_type": "execute_result"
    },
    {
     "data": {
      "image/png": "[encoded data removed]",
      "text/plain": [
       "<Figure size 1080x720 with 1 Axes>"
      ]
     },
     "metadata": {
      "needs_background": "light"
     },
     "output_type": "display_data"
    }
   ],
   "source": [
    "fig = plt.figure(figsize = (15,10))\n",
    "sns.barplot(x = 'company', y = 'rating', data=data1)"
   ]
  },
  {
   "cell_type": "code",
   "execution_count": 59,
   "id": "746b0a7e",
   "metadata": {},
   "outputs": [
    {
     "data": {
      "text/plain": [
       "<AxesSubplot:xlabel='cocoa_percent', ylabel='company_location'>"
      ]
     },
     "execution_count": 59,
     "metadata": {},
     "output_type": "execute_result"
    },
    {
     "data": {
      "image/png": "[encoded data removed]",
      "text/plain": [
       "<Figure size 2880x1440 with 1 Axes>"
      ]
     },
     "metadata": {
      "needs_background": "light"
     },
     "output_type": "display_data"
    }
   ],
   "source": [
    "fig = plt.figure(figsize = (40,20))\n",
    "sns.barplot(x = 'cocoa_percent' , y = 'company_location', data = data1)"
   ]
  },
  {
   "cell_type": "code",
   "execution_count": 60,
   "id": "de4c0d41",
   "metadata": {},
   "outputs": [
    {
     "name": "stdout",
     "output_type": "stream",
     "text": [
      "['Belize' 'Blend' 'Bolivia' 'Brazil' 'Colombia' 'Congo' 'Costa rica'\n",
      " 'Cuba' 'Dominican republic' 'Ecuador' 'El salvador' 'Ghana' 'Grenada'\n",
      " 'Guatemala' 'Haiti' 'Honduras' 'India' 'Indonesia' 'Ivory coast'\n",
      " 'Jamaica' 'Liberia' 'Madagascar' 'Mexico' 'Nicaragua' 'Nigeria' 'Panama'\n",
      " 'Papua new guinea' 'Peru' 'Philippines' 'Sao tome' 'Sierra leone'\n",
      " 'Solomon islands' 'St. lucia' 'Tanzania' 'Tobago' 'Trinidad' 'U.s.a.'\n",
      " 'Vanuatu' 'Venezuela' 'Vietnam']\n"
     ]
    }
   ],
   "source": [
    "print (data1['country_of_bean_origin'].sort_values().unique())"
   ]
  },
  {
   "cell_type": "code",
   "execution_count": 61,
   "id": "9ce22668",
   "metadata": {},
   "outputs": [
    {
     "name": "stderr",
     "output_type": "stream",
     "text": [
      "/opt/anaconda3/lib/python3.8/site-packages/seaborn/_decorators.py:36: FutureWarning: Pass the following variable as a keyword arg: x. From version 0.12, the only valid positional argument will be `data`, and passing other arguments without an explicit keyword will result in an error or misinterpretation.\n",
      "  warnings.warn(\n"
     ]
    },
    {
     "data": {
      "text/plain": [
       "Text(0.5, 1.0, 'Distribution by country')"
      ]
     },
     "execution_count": 61,
     "metadata": {},
     "output_type": "execute_result"
    },
    {
     "data": {
      "image/png": "[encoded data removed]",
      "text/plain": [
       "<Figure size 2880x360 with 1 Axes>"
      ]
     },
     "metadata": {
      "needs_background": "light"
     },
     "output_type": "display_data"
    }
   ],
   "source": [
    "plt.subplots(figsize = [40,5])\n",
    "sns.countplot(data1['company'])\n",
    "plt.title('Distribution by country')"
   ]
  },
  {
   "cell_type": "code",
   "execution_count": 62,
   "id": "13824441",
   "metadata": {},
   "outputs": [
    {
     "data": {
      "text/plain": [
       "Index(['company', 'company_location', 'review_date', 'country_of_bean_origin',\n",
       "       'specific_bean_origin_or_bar_name', 'cocoa_percent', 'rating',\n",
       "       'counts_of_ingredients', 'beans', 'cocoa_butter', 'vanilla', 'lecithin',\n",
       "       'salt', 'sugar', 'sweetener_without_sugar', 'first_taste',\n",
       "       'second_taste', 'third_taste', 'fourth_taste'],\n",
       "      dtype='object')"
      ]
     },
     "execution_count": 62,
     "metadata": {},
     "output_type": "execute_result"
    }
   ],
   "source": [
    "data1.columns"
   ]
  },
  {
   "cell_type": "code",
   "execution_count": 63,
   "id": "cc523858",
   "metadata": {},
   "outputs": [
    {
     "data": {
      "image/png": "[encoded data removed]",
      "text/plain": [
       "<Figure size 432x288 with 2 Axes>"
      ]
     },
     "metadata": {
      "needs_background": "light"
     },
     "output_type": "display_data"
    }
   ],
   "source": [
    "data1 = np.random.rand(10, 12)\n",
    "ax = sns.heatmap(data1)"
   ]
  },
  {
   "cell_type": "code",
   "execution_count": 67,
   "id": "2946a1ac",
   "metadata": {},
   "outputs": [
    {
     "data": {
      "text/plain": [
       "<AxesSubplot:>"
      ]
     },
     "execution_count": 67,
     "metadata": {},
     "output_type": "execute_result"
    },
    {
     "data": {
      "image/png": "[encoded data removed]",
      "text/plain": [
       "<Figure size 432x288 with 1 Axes>"
      ]
     },
     "metadata": {
      "needs_background": "light"
     },
     "output_type": "display_data"
    }
   ],
   "source": [
    "data1 = pd.DataFrame(np.random.rand(10, 4), columns=[\"rating\", \"counts_of_ingredients\", \"company_location\", \"cocoa_percent\"])\n",
    "\n",
    "data1.plot.bar()"
   ]
  },
  {
   "cell_type": "code",
   "execution_count": 68,
   "id": "4bd5cd8e",
   "metadata": {},
   "outputs": [
    {
     "data": {
      "text/plain": [
       "array([[<AxesSubplot:title={'center':'rating'}>,\n",
       "        <AxesSubplot:title={'center':'counts_of_ingredients'}>],\n",
       "       [<AxesSubplot:title={'center':'company_location'}>,\n",
       "        <AxesSubplot:title={'center':'cocoa_percent'}>]], dtype=object)"
      ]
     },
     "execution_count": 68,
     "metadata": {},
     "output_type": "execute_result"
    },
    {
     "data": {
      "text/plain": [
       "<Figure size 432x288 with 0 Axes>"
      ]
     },
     "metadata": {},
     "output_type": "display_data"
    },
    {
     "data": {
      "image/png": "[encoded data removed]",
      "text/plain": [
       "<Figure size 432x288 with 4 Axes>"
      ]
     },
     "metadata": {
      "needs_background": "light"
     },
     "output_type": "display_data"
    }
   ],
   "source": [
    "plt.figure()\n",
    "\n",
    "data1.diff().hist(color=\"k\", alpha=0.5, bins=50)"
   ]
  },
  {
   "cell_type": "code",
   "execution_count": 76,
   "id": "769f6c32",
   "metadata": {},
   "outputs": [
    {
     "data": {
      "image/png": "[encoded data removed]",
      "text/plain": [
       "<Figure size 432x288 with 1 Axes>"
      ]
     },
     "metadata": {
      "needs_background": "light"
     },
     "output_type": "display_data"
    }
   ],
   "source": [
    "pd.plotting.parallel_coordinates(data1, class_column='cocoa_percent')\n",
    "plt.show()"
   ]
  },
  {
   "cell_type": "code",
   "execution_count": null,
   "id": "29f88eb4",
   "metadata": {},
   "outputs": [],
   "source": []
  }
 ],
 "metadata": {
  "kernelspec": {
   "display_name": "Python 3",
   "language": "python",
   "name": "python3"
  },
  "language_info": {
   "codemirror_mode": {
    "name": "ipython",
    "version": 3
   },
   "file_extension": ".py",
   "mimetype": "text/x-python",
   "name": "python",
   "nbconvert_exporter": "python",
   "pygments_lexer": "ipython3",
   "version": "3.8.8"
  }
 },
 "nbformat": 4,
 "nbformat_minor": 5
}
